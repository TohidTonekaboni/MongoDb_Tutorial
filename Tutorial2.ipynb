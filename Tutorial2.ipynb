{
 "cells": [
  {
   "cell_type": "code",
   "execution_count": null,
   "id": "32faadd5",
   "metadata": {},
   "outputs": [],
   "source": [
    "from pymongo import MongoClient\n",
    "import pprint"
   ]
  },
  {
   "cell_type": "code",
   "execution_count": null,
   "id": "9ef6309f",
   "metadata": {},
   "outputs": [],
   "source": [
    "address= \"mongodb://localhost:27017/\""
   ]
  },
  {
   "cell_type": "code",
   "execution_count": null,
   "id": "2d0700f7",
   "metadata": {},
   "outputs": [],
   "source": [
    "client = MongoClient(address)"
   ]
  },
  {
   "cell_type": "code",
   "execution_count": null,
   "id": "156f2e44",
   "metadata": {},
   "outputs": [],
   "source": [
    "dbs = client.list_database_names()"
   ]
  },
  {
   "cell_type": "code",
   "execution_count": null,
   "id": "4e068d3a",
   "metadata": {},
   "outputs": [],
   "source": [
    "dbs"
   ]
  },
  {
   "cell_type": "code",
   "execution_count": null,
   "id": "c0ff1bba",
   "metadata": {},
   "outputs": [],
   "source": [
    "test_db = client.TohidDb"
   ]
  },
  {
   "cell_type": "code",
   "execution_count": null,
   "id": "e547bc7b",
   "metadata": {},
   "outputs": [],
   "source": [
    "collections = test_db.list_collection_names()"
   ]
  },
  {
   "cell_type": "code",
   "execution_count": null,
   "id": "741d7f99",
   "metadata": {},
   "outputs": [],
   "source": [
    "print(collections)"
   ]
  },
  {
   "cell_type": "markdown",
   "id": "57022028",
   "metadata": {},
   "source": [
    "# Insert Document"
   ]
  },
  {
   "cell_type": "code",
   "execution_count": null,
   "id": "353b63d8",
   "metadata": {},
   "outputs": [],
   "source": [
    "def insert_test_doc():\n",
    "    collection = test_db.tutorial2\n",
    "    test_document = {\n",
    "        \"name\" : \"Tohid\",\n",
    "        \"type\": \"Test\"\n",
    "    }\n",
    "    inserted_id = collection.insert_one(test_document).inserted_id\n",
    "    print(inserted_id)"
   ]
  },
  {
   "cell_type": "code",
   "execution_count": null,
   "id": "101080ba",
   "metadata": {},
   "outputs": [],
   "source": [
    "insert_test_doc()"
   ]
  },
  {
   "cell_type": "code",
   "execution_count": null,
   "id": "824e27f5",
   "metadata": {},
   "outputs": [],
   "source": [
    "production = client.production\n",
    "person_collection = production.person_collection"
   ]
  },
  {
   "cell_type": "code",
   "execution_count": null,
   "id": "a5915dc4",
   "metadata": {},
   "outputs": [],
   "source": [
    "def create_documents():\n",
    "    first_names = [\"Tim\",\"Sarah\",\"Jennifer\",\"Jose\",\"Brad\",\"Allen\"]\n",
    "    last_names = [\"Rusica\",\"Smith\",\"Bart\",\"Cater\",\"Pit\",\"Geral\"]\n",
    "    ages = [21,40,23,19,34,67]\n",
    "    \n",
    "    docs = []\n",
    "    for first_name,last_name,age in zip(first_names,last_names,ages):\n",
    "        doc = {\"first_name\": first_name, \"last_name\": last_name, \"age\": age}\n",
    "        docs.append(doc)\n",
    "        #person_collection.insert_one(doc)\n",
    "    person_collection.insert_many(docs)"
   ]
  },
  {
   "cell_type": "code",
   "execution_count": null,
   "id": "d0d112b7",
   "metadata": {},
   "outputs": [],
   "source": [
    "create_documents()"
   ]
  },
  {
   "cell_type": "markdown",
   "id": "7165ff9b",
   "metadata": {},
   "source": [
    "# Reading Documents"
   ]
  },
  {
   "cell_type": "code",
   "execution_count": null,
   "id": "8f83741c",
   "metadata": {},
   "outputs": [],
   "source": [
    "printer = pprint.PrettyPrinter()"
   ]
  },
  {
   "cell_type": "code",
   "execution_count": null,
   "id": "13c07ec9",
   "metadata": {},
   "outputs": [],
   "source": [
    "def find_all_people():\n",
    "    people = person_collection.find()\n",
    "    \n",
    "    for person in people:\n",
    "        printer.pprint(person)"
   ]
  },
  {
   "cell_type": "code",
   "execution_count": null,
   "id": "8cd238cf",
   "metadata": {},
   "outputs": [],
   "source": [
    "find_all_people()"
   ]
  },
  {
   "cell_type": "code",
   "execution_count": null,
   "id": "06e236bd",
   "metadata": {},
   "outputs": [],
   "source": [
    "tim = person_collection.find_one({\"first_name\":\"Tim\"})\n",
    "printer.pprint(tim)"
   ]
  },
  {
   "cell_type": "code",
   "execution_count": null,
   "id": "3b95db73",
   "metadata": {},
   "outputs": [],
   "source": [
    "tim = person_collection.find({\"first_name\":\"Tim\"})\n",
    "for p in tim:\n",
    "    printer.pprint(p)"
   ]
  },
  {
   "cell_type": "code",
   "execution_count": null,
   "id": "b4742f21",
   "metadata": {},
   "outputs": [],
   "source": [
    "def count_all_people():\n",
    "    count = person_collection.count_documents(filter={})\n",
    "    print(\"Number of People\",count)\n",
    "count_all_people()"
   ]
  },
  {
   "cell_type": "code",
   "execution_count": null,
   "id": "278d9d29",
   "metadata": {},
   "outputs": [],
   "source": [
    "def get_person_by_id(person_id):\n",
    "    from bson.objectid import ObjectId\n",
    "    _id = ObjectId(person_id)\n",
    "    \n",
    "    person = person_collection.find_one({\"_id\":_id})\n",
    "    \n",
    "    printer.pprint(person)\n",
    "get_person_by_id(\"63f45b71836c4fa1b08a98f0\")"
   ]
  },
  {
   "cell_type": "code",
   "execution_count": null,
   "id": "577f046e",
   "metadata": {},
   "outputs": [],
   "source": [
    "def get_age_range(min_age,max_age):\n",
    "    query = {\"$and\":[{\"age\":{\"$gte\":min_age}},{\"age\":{\"$lte\":max_age}}]}\n",
    "    people = person_collection.find(query).sort(\"age\")\n",
    "    for p in people:\n",
    "        printer.pprint(p)\n",
    "get_age_range(20,35)"
   ]
  },
  {
   "cell_type": "code",
   "execution_count": null,
   "id": "7bffda88",
   "metadata": {},
   "outputs": [],
   "source": [
    "def project_columns():\n",
    "    columns = {\"_id\":0 , \"first_name\":1 , \"last_name\":1}\n",
    "    people = person_collection.find({},columns)\n",
    "    for p in people:\n",
    "        printer.pprint(p)\n",
    "project_columns()"
   ]
  },
  {
   "cell_type": "markdown",
   "id": "afc242c8",
   "metadata": {},
   "source": [
    "# Updating Documents"
   ]
  },
  {
   "cell_type": "code",
   "execution_count": null,
   "id": "51d0f03f",
   "metadata": {},
   "outputs": [],
   "source": [
    "def update_person_by_id(person_id):\n",
    "    from bson.objectid import ObjectId\n",
    "    _id = ObjectId(person_id)\n",
    "    \n",
    "#     all_updates = {\n",
    "#         \"$set\": {\"new_field\": True}, \n",
    "#         \"$inc\": {\"age\": 1},\n",
    "#         \"$rename\": {\"first_name\": \"first\",\"last_name\":\"last\"}\n",
    "#     }\n",
    "#     person_collection.update_one({\"_id\": _id}, all_updates)\n",
    "\n",
    "    person_collection.update_one({\"_id\": _id},{\"$unset\":{\"new_field\":\"\"}})\n",
    "update_person_by_id(\"63f45b71836c4fa1b08a98ee\")"
   ]
  },
  {
   "cell_type": "code",
   "execution_count": null,
   "id": "c7d8bcc1",
   "metadata": {},
   "outputs": [],
   "source": [
    "def replace_one(person_id):\n",
    "    from bson.objectid import ObjectId\n",
    "    _id = ObjectId(person_id)\n",
    "    \n",
    "    new_doc = {\n",
    "        \"first_name\": \"new first name\",\n",
    "        \"last_name\": \"new last name\",\n",
    "        \"age\": 100\n",
    "    }\n",
    "    \n",
    "    person_collection.replace_one({\"_id\": _id},new_doc)\n",
    "replace_one(\"63f45b71836c4fa1b08a98ef\")"
   ]
  },
  {
   "cell_type": "markdown",
   "id": "7a06fc11",
   "metadata": {},
   "source": [
    "# Deleting Documents"
   ]
  },
  {
   "cell_type": "code",
   "execution_count": null,
   "id": "276189e6",
   "metadata": {},
   "outputs": [],
   "source": [
    "def delete_doc_by_id(person_id):\n",
    "    from bson.objectid import ObjectId\n",
    "    _id = ObjectId(person_id)\n",
    "    \n",
    "    person_collection.delete_one({\"_id\": _id})\n",
    "delete_doc_by_id(\"63f45b71836c4fa1b08a98ef\")"
   ]
  },
  {
   "cell_type": "markdown",
   "id": "f8ce44c2",
   "metadata": {},
   "source": [
    "# Relationship"
   ]
  },
  {
   "cell_type": "code",
   "execution_count": null,
   "id": "c3ebc5ef",
   "metadata": {},
   "outputs": [],
   "source": [
    "address = {\n",
    "    \"_id\":\"62475964011a9126a4cebeb7\",\n",
    "    \"street\" : \"Bay Street\",\n",
    "    \"number\" : 2706,\n",
    "    \"city\": \"San Francisco\",\n",
    "    \"country\": \"United States\",\n",
    "    \"zip\": \"94107\",\n",
    "    #\"owner_id\": \"62475964011a9126a4\"\n",
    "}\n",
    "\n",
    "# person = {\n",
    "#     \"_id\": \"62475964011a9126a4\",\n",
    "#     \"first_name\": \"John\"\n",
    "# }"
   ]
  },
  {
   "cell_type": "code",
   "execution_count": null,
   "id": "e6ecc759",
   "metadata": {},
   "outputs": [],
   "source": [
    "def add_address_embed(person_id,address):\n",
    "    from bson.objectid import ObjectId\n",
    "    _id = ObjectId(person_id)\n",
    "    \n",
    "    person_collection.update_one({\"_id\": _id},{\"$addToSet\":{\"addresses\":address}})\n",
    "    \n",
    "add_address_embed(\"63f45b71836c4fa1b08a98ee\",address)   "
   ]
  },
  {
   "cell_type": "code",
   "execution_count": null,
   "id": "8be33807",
   "metadata": {},
   "outputs": [],
   "source": [
    "def add_address_relationship(person_id,address):\n",
    "    from bson.objectid import ObjectId\n",
    "    _id = ObjectId(person_id)\n",
    "    address = address.copy()\n",
    "    address[\"owner_id\"] = person_id\n",
    "    \n",
    "    address_collection = production.address\n",
    "    address_collection.insert_one(address)\n",
    "    \n",
    "add_address_relationship(\"63f45b71836c4fa1b08a98f0\",address)  "
   ]
  },
  {
   "cell_type": "code",
   "execution_count": null,
   "id": "652eb5b7",
   "metadata": {},
   "outputs": [],
   "source": []
  }
 ],
 "metadata": {
  "kernelspec": {
   "display_name": "Python 3 (ipykernel)",
   "language": "python",
   "name": "python3"
  },
  "language_info": {
   "codemirror_mode": {
    "name": "ipython",
    "version": 3
   },
   "file_extension": ".py",
   "mimetype": "text/x-python",
   "name": "python",
   "nbconvert_exporter": "python",
   "pygments_lexer": "ipython3",
   "version": "3.9.13"
  }
 },
 "nbformat": 4,
 "nbformat_minor": 5
}
