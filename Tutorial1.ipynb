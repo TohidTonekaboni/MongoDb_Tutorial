{
 "cells": [
  {
   "cell_type": "code",
   "execution_count": 11,
   "id": "9f56f965",
   "metadata": {},
   "outputs": [],
   "source": [
    "from pymongo import MongoClient\n",
    "import datetime"
   ]
  },
  {
   "cell_type": "code",
   "execution_count": 3,
   "id": "96496c78",
   "metadata": {},
   "outputs": [],
   "source": [
    "address= \"mongodb://localhost:27017/\""
   ]
  },
  {
   "cell_type": "code",
   "execution_count": 4,
   "id": "a001a0f5",
   "metadata": {},
   "outputs": [],
   "source": [
    "client = MongoClient(address)"
   ]
  },
  {
   "cell_type": "code",
   "execution_count": 8,
   "id": "9389871d",
   "metadata": {},
   "outputs": [
    {
     "name": "stdout",
     "output_type": "stream",
     "text": [
      "['admin', 'config', 'local', 'tohidtest']\n"
     ]
    }
   ],
   "source": [
    "print(client.list_database_names())"
   ]
  },
  {
   "cell_type": "code",
   "execution_count": 9,
   "id": "b73335e7",
   "metadata": {},
   "outputs": [],
   "source": [
    "db = client.tohidtest"
   ]
  },
  {
   "cell_type": "code",
   "execution_count": 10,
   "id": "21eb1a03",
   "metadata": {},
   "outputs": [
    {
     "name": "stdout",
     "output_type": "stream",
     "text": [
      "['todos']\n"
     ]
    }
   ],
   "source": [
    "print(db.list_collection_names())"
   ]
  },
  {
   "cell_type": "code",
   "execution_count": 12,
   "id": "ce790f80",
   "metadata": {},
   "outputs": [],
   "source": [
    "todo1 = {\"name\":\"Tohid\",\"text\":\"My first todo!\",\n",
    "         \"status\":\"open\",\"tags\":[\"python\",\"coding\"],\n",
    "         \"date\":datetime.datetime.utcnow()}"
   ]
  },
  {
   "cell_type": "code",
   "execution_count": 13,
   "id": "f9ed3689",
   "metadata": {},
   "outputs": [
    {
     "data": {
      "text/plain": [
       "{'name': 'Tohid',\n",
       " 'text': 'My first todo!',\n",
       " 'status': 'open',\n",
       " 'tags': ['python', 'coding'],\n",
       " 'date': '2023-02-20 05:09:47.705849'}"
      ]
     },
     "execution_count": 13,
     "metadata": {},
     "output_type": "execute_result"
    }
   ],
   "source": [
    "todo1"
   ]
  },
  {
   "cell_type": "code",
   "execution_count": 14,
   "id": "da4e1359",
   "metadata": {},
   "outputs": [],
   "source": [
    "todos = db.todos"
   ]
  },
  {
   "cell_type": "code",
   "execution_count": 15,
   "id": "c3ac60d5",
   "metadata": {},
   "outputs": [],
   "source": [
    "result = todos.insert_one(todo1)"
   ]
  },
  {
   "cell_type": "code",
   "execution_count": 17,
   "id": "d8532537",
   "metadata": {},
   "outputs": [],
   "source": [
    "todo2 = [{\"name\":\"Mohammadreza\",\"text\":\"My first todo!\",\n",
    "         \"status\":\"open\",\"tags\":[\"python\",\"coding\",\"ML\"],\n",
    "         \"date\":datetime.datetime.utcnow()},\n",
    "        {\"name\":\"dadash\",\"text\":\"junior\",\"status\":\"open\",\n",
    "        \"tags\":[\"C++\",\"coding\",\"ML\"],\n",
    "        \"date\":datetime.datetime.utcnow()}]"
   ]
  },
  {
   "cell_type": "code",
   "execution_count": 18,
   "id": "779b9338",
   "metadata": {},
   "outputs": [],
   "source": [
    "result = todos.insert_many(todo2)"
   ]
  },
  {
   "cell_type": "code",
   "execution_count": 23,
   "id": "c97aeba7",
   "metadata": {},
   "outputs": [],
   "source": [
    "# retrieve\n",
    "alldoc = todos.find_one()"
   ]
  },
  {
   "cell_type": "code",
   "execution_count": 24,
   "id": "05b9093a",
   "metadata": {},
   "outputs": [
    {
     "data": {
      "text/plain": [
       "{'_id': ObjectId('63f302f072df0fcfc67f7526'),\n",
       " 'name': 'Tohid',\n",
       " 'text': 'My first todo!',\n",
       " 'status': 'open',\n",
       " 'tags': ['python', 'coding'],\n",
       " 'date': '2023-02-20 05:09:47.705849'}"
      ]
     },
     "execution_count": 24,
     "metadata": {},
     "output_type": "execute_result"
    }
   ],
   "source": [
    "alldoc"
   ]
  },
  {
   "cell_type": "code",
   "execution_count": 25,
   "id": "a5bd5ef9",
   "metadata": {},
   "outputs": [],
   "source": [
    "alldoc = todos.find_one({\"name\":\"dadash\"})"
   ]
  },
  {
   "cell_type": "code",
   "execution_count": 26,
   "id": "ec3d2473",
   "metadata": {},
   "outputs": [
    {
     "data": {
      "text/plain": [
       "{'_id': ObjectId('63f3042a72df0fcfc67f7528'),\n",
       " 'name': 'dadash',\n",
       " 'text': 'junior',\n",
       " 'status': 'open',\n",
       " 'tags': ['C++', 'coding', 'ML'],\n",
       " 'date': datetime.datetime(2023, 2, 20, 5, 24, 19, 514000)}"
      ]
     },
     "execution_count": 26,
     "metadata": {},
     "output_type": "execute_result"
    }
   ],
   "source": [
    "alldoc"
   ]
  },
  {
   "cell_type": "code",
   "execution_count": 27,
   "id": "9a0cf3b6",
   "metadata": {},
   "outputs": [],
   "source": [
    "alldoc = todos.find_one({\"name\":\"Tohid\",\"text\":\"My first todo!\"})"
   ]
  },
  {
   "cell_type": "code",
   "execution_count": 28,
   "id": "4c30ed24",
   "metadata": {},
   "outputs": [
    {
     "data": {
      "text/plain": [
       "{'_id': ObjectId('63f302f072df0fcfc67f7526'),\n",
       " 'name': 'Tohid',\n",
       " 'text': 'My first todo!',\n",
       " 'status': 'open',\n",
       " 'tags': ['python', 'coding'],\n",
       " 'date': '2023-02-20 05:09:47.705849'}"
      ]
     },
     "execution_count": 28,
     "metadata": {},
     "output_type": "execute_result"
    }
   ],
   "source": [
    "alldoc"
   ]
  },
  {
   "cell_type": "code",
   "execution_count": 31,
   "id": "dd8d19aa",
   "metadata": {},
   "outputs": [],
   "source": [
    "alldoc = todos.find_one({\"tags\":\"C++\"})"
   ]
  },
  {
   "cell_type": "code",
   "execution_count": 32,
   "id": "7ea57884",
   "metadata": {},
   "outputs": [
    {
     "data": {
      "text/plain": [
       "{'_id': ObjectId('63f3042a72df0fcfc67f7528'),\n",
       " 'name': 'dadash',\n",
       " 'text': 'junior',\n",
       " 'status': 'open',\n",
       " 'tags': ['C++', 'coding', 'ML'],\n",
       " 'date': datetime.datetime(2023, 2, 20, 5, 24, 19, 514000)}"
      ]
     },
     "execution_count": 32,
     "metadata": {},
     "output_type": "execute_result"
    }
   ],
   "source": [
    "alldoc"
   ]
  },
  {
   "cell_type": "code",
   "execution_count": 35,
   "id": "24635877",
   "metadata": {},
   "outputs": [],
   "source": [
    "doc = todos.find_one({'_id':'63f3042a72df0fcfc67f7528'})"
   ]
  },
  {
   "cell_type": "code",
   "execution_count": 37,
   "id": "e458566b",
   "metadata": {},
   "outputs": [
    {
     "name": "stdout",
     "output_type": "stream",
     "text": [
      "None\n"
     ]
    }
   ],
   "source": [
    "print(doc)"
   ]
  },
  {
   "cell_type": "code",
   "execution_count": 38,
   "id": "caa59817",
   "metadata": {},
   "outputs": [],
   "source": [
    "from bson.objectid import ObjectId"
   ]
  },
  {
   "cell_type": "code",
   "execution_count": 39,
   "id": "ccd3501d",
   "metadata": {},
   "outputs": [],
   "source": [
    "doc = todos.find_one({'_id':ObjectId('63f3042a72df0fcfc67f7528')})"
   ]
  },
  {
   "cell_type": "code",
   "execution_count": 40,
   "id": "3d5ef272",
   "metadata": {},
   "outputs": [
    {
     "data": {
      "text/plain": [
       "{'_id': ObjectId('63f3042a72df0fcfc67f7528'),\n",
       " 'name': 'dadash',\n",
       " 'text': 'junior',\n",
       " 'status': 'open',\n",
       " 'tags': ['C++', 'coding', 'ML'],\n",
       " 'date': datetime.datetime(2023, 2, 20, 5, 24, 19, 514000)}"
      ]
     },
     "execution_count": 40,
     "metadata": {},
     "output_type": "execute_result"
    }
   ],
   "source": [
    "doc"
   ]
  },
  {
   "cell_type": "code",
   "execution_count": 41,
   "id": "5998677f",
   "metadata": {},
   "outputs": [
    {
     "name": "stdout",
     "output_type": "stream",
     "text": [
      "<pymongo.cursor.Cursor object at 0x000001D44F0FFB20>\n"
     ]
    }
   ],
   "source": [
    "## find\n",
    "doc = todos.find({\"text\":\"My first todo!\"})\n",
    "print(doc)"
   ]
  },
  {
   "cell_type": "code",
   "execution_count": 42,
   "id": "99683813",
   "metadata": {},
   "outputs": [
    {
     "name": "stdout",
     "output_type": "stream",
     "text": [
      "{'_id': ObjectId('63f302f072df0fcfc67f7526'), 'name': 'Tohid', 'text': 'My first todo!', 'status': 'open', 'tags': ['python', 'coding'], 'date': '2023-02-20 05:09:47.705849'}\n",
      "{'_id': ObjectId('63f3042a72df0fcfc67f7527'), 'name': 'Mohammadreza', 'text': 'My first todo!', 'status': 'open', 'tags': ['python', 'coding', 'ML'], 'date': datetime.datetime(2023, 2, 20, 5, 24, 19, 514000)}\n"
     ]
    }
   ],
   "source": [
    "for d in doc:\n",
    "    print(d)"
   ]
  },
  {
   "cell_type": "code",
   "execution_count": 43,
   "id": "8923337c",
   "metadata": {},
   "outputs": [
    {
     "name": "stdout",
     "output_type": "stream",
     "text": [
      "3\n"
     ]
    }
   ],
   "source": [
    "print(todos.count_documents({}))"
   ]
  },
  {
   "cell_type": "code",
   "execution_count": 44,
   "id": "93c7722b",
   "metadata": {},
   "outputs": [
    {
     "name": "stdout",
     "output_type": "stream",
     "text": [
      "1\n"
     ]
    }
   ],
   "source": [
    "print(todos.count_documents({\"tags\":\"C++\"}))"
   ]
  },
  {
   "cell_type": "code",
   "execution_count": 45,
   "id": "d4022c72",
   "metadata": {},
   "outputs": [],
   "source": [
    "d = datetime.datetime(2022,1,1)"
   ]
  },
  {
   "cell_type": "code",
   "execution_count": 50,
   "id": "58ed7779",
   "metadata": {},
   "outputs": [],
   "source": [
    "results = todos.find({\"date\":{\"$gt\":d}})"
   ]
  },
  {
   "cell_type": "code",
   "execution_count": 51,
   "id": "95ff74ff",
   "metadata": {},
   "outputs": [
    {
     "name": "stdout",
     "output_type": "stream",
     "text": [
      "{'_id': ObjectId('63f3042a72df0fcfc67f7527'), 'name': 'Mohammadreza', 'text': 'My first todo!', 'status': 'open', 'tags': ['python', 'coding', 'ML'], 'date': datetime.datetime(2023, 2, 20, 5, 24, 19, 514000)}\n",
      "{'_id': ObjectId('63f3042a72df0fcfc67f7528'), 'name': 'dadash', 'text': 'junior', 'status': 'open', 'tags': ['C++', 'coding', 'ML'], 'date': datetime.datetime(2023, 2, 20, 5, 24, 19, 514000)}\n"
     ]
    }
   ],
   "source": [
    "for result in results:\n",
    "    print(result)"
   ]
  },
  {
   "cell_type": "code",
   "execution_count": 52,
   "id": "199f59d5",
   "metadata": {},
   "outputs": [],
   "source": [
    "result = todos.delete_one({\"name\":\"Tohid\"})"
   ]
  },
  {
   "cell_type": "code",
   "execution_count": 53,
   "id": "14293e9a",
   "metadata": {},
   "outputs": [
    {
     "data": {
      "text/plain": [
       "<pymongo.results.DeleteResult at 0x1d44e9f0a60>"
      ]
     },
     "execution_count": 53,
     "metadata": {},
     "output_type": "execute_result"
    }
   ],
   "source": [
    "result"
   ]
  },
  {
   "cell_type": "code",
   "execution_count": 54,
   "id": "bb452954",
   "metadata": {},
   "outputs": [],
   "source": [
    "result = todos.update_one({\"tags\":\"C++\"},{\"$set\":{\"status\":\"done\"}})"
   ]
  },
  {
   "cell_type": "code",
   "execution_count": 56,
   "id": "643eb8ac",
   "metadata": {},
   "outputs": [
    {
     "name": "stdout",
     "output_type": "stream",
     "text": [
      "<pymongo.results.UpdateResult object at 0x000001D44EA0D970>\n"
     ]
    }
   ],
   "source": [
    "print(result)"
   ]
  },
  {
   "cell_type": "code",
   "execution_count": null,
   "id": "b988a1f6",
   "metadata": {},
   "outputs": [],
   "source": []
  }
 ],
 "metadata": {
  "kernelspec": {
   "display_name": "Python 3 (ipykernel)",
   "language": "python",
   "name": "python3"
  },
  "language_info": {
   "codemirror_mode": {
    "name": "ipython",
    "version": 3
   },
   "file_extension": ".py",
   "mimetype": "text/x-python",
   "name": "python",
   "nbconvert_exporter": "python",
   "pygments_lexer": "ipython3",
   "version": "3.9.13"
  }
 },
 "nbformat": 4,
 "nbformat_minor": 5
}
